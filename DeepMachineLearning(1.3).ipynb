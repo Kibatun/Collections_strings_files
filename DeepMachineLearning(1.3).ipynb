{
  "nbformat": 4,
  "nbformat_minor": 0,
  "metadata": {
    "colab": {
      "provenance": [],
      "authorship_tag": "ABX9TyNtLkW0hPIQO9uBST/YRuuS"
    },
    "kernelspec": {
      "name": "python3",
      "display_name": "Python 3"
    },
    "language_info": {
      "name": "python"
    },
    "accelerator": "GPU",
    "gpuClass": "standard"
  },
  "cells": [
    {
      "cell_type": "code",
      "execution_count": 4,
      "metadata": {
        "colab": {
          "base_uri": "https://localhost:8080/"
        },
        "id": "5uk4QubazBtf",
        "outputId": "4210140d-4aa3-4769-e436-83beccef6949"
      },
      "outputs": [
        {
          "output_type": "stream",
          "name": "stdout",
          "text": [
            "-131.2\n"
          ]
        }
      ],
      "source": [
        "import numpy as np\n",
        "X = np.array([-25, -17, -25, 9, 25, -8, -11, -14, 19, -14])\n",
        "W = np.array([1.0, 2.0, 1.6, 1.5, -1.1, 0.9, -1.0, 1.5, 1.2, 1.7])\n",
        "f = np.sum(X*W)\n",
        "print (f)"
      ]
    }
  ]
}